{
  "cells": [
    {
      "cell_type": "code",
      "execution_count": null,
      "id": "4JXSChA4TbpK",
      "metadata": {
        "id": "4JXSChA4TbpK"
      },
      "outputs": [],
      "source": [
        "from google.colab import drive\n",
        "drive.mount('/content/drive')"
      ]
    },
    {
      "cell_type": "code",
      "execution_count": null,
      "id": "fhiYvy5tTlJG",
      "metadata": {
        "id": "fhiYvy5tTlJG"
      },
      "outputs": [],
      "source": [
        "# Raw data access\n",
        "\n",
        "import os\n",
        "os.chdir('/content/drive/MyDrive/MPXV_pycaret/NEW_ML_MPXV')"
      ]
    },
    {
      "cell_type": "markdown",
      "id": "5fd9cdec-ce8c-430c-af06-602798b3344e",
      "metadata": {
        "id": "5fd9cdec-ce8c-430c-af06-602798b3344e"
      },
      "source": [
        "#### **Importing the modules** ####"
      ]
    },
    {
      "cell_type": "code",
      "execution_count": null,
      "id": "7bc4a834-7839-4797-89bd-b80c18699322",
      "metadata": {
        "id": "7bc4a834-7839-4797-89bd-b80c18699322"
      },
      "outputs": [],
      "source": [
        "from glob import glob\n",
        "import pandas as pd\n",
        "import numpy as np\n",
        "from matplotlib import pyplot as plt\n",
        "import seaborn as sns"
      ]
    },
    {
      "cell_type": "code",
      "execution_count": null,
      "id": "gRUssiF9aOLu",
      "metadata": {
        "id": "gRUssiF9aOLu"
      },
      "outputs": [],
      "source": [
        "ls\n"
      ]
    },
    {
      "cell_type": "markdown",
      "id": "5054e6a5-6e71-404d-ac74-7da58b054247",
      "metadata": {
        "id": "5054e6a5-6e71-404d-ac74-7da58b054247"
      },
      "source": [
        "#### **Load Dataset** ####"
      ]
    },
    {
      "cell_type": "code",
      "execution_count": null,
      "id": "f5f0e0da-b267-462a-8d9a-b56221983e9c",
      "metadata": {
        "id": "f5f0e0da-b267-462a-8d9a-b56221983e9c"
      },
      "outputs": [],
      "source": [
        "MPXV_df = pd.read_csv(\"13_K_C_ex_run.csv\", index_col=0)\n"
      ]
    },
    {
      "cell_type": "code",
      "execution_count": null,
      "id": "191f9434-fc35-4b41-8543-9f9b21d62c94",
      "metadata": {
        "id": "191f9434-fc35-4b41-8543-9f9b21d62c94"
      },
      "outputs": [],
      "source": [
        "display(MPXV_df.head(24))\n"
      ]
    },
    {
      "cell_type": "markdown",
      "id": "d9bc98de-da4b-4771-b67d-8657ba835390",
      "metadata": {
        "id": "d9bc98de-da4b-4771-b67d-8657ba835390"
      },
      "source": [
        "#### **Data Preprocessing** ####\n",
        "##### **Checking null entries** #####"
      ]
    },
    {
      "cell_type": "code",
      "execution_count": null,
      "id": "5c3da1d8-3102-4836-bcb4-991c25c54254",
      "metadata": {
        "id": "5c3da1d8-3102-4836-bcb4-991c25c54254"
      },
      "outputs": [],
      "source": [
        "MPXV_df.info()"
      ]
    },
    {
      "cell_type": "markdown",
      "id": "388cfdd5-3efd-406d-bca1-3e332bec12a1",
      "metadata": {
        "id": "388cfdd5-3efd-406d-bca1-3e332bec12a1"
      },
      "source": [
        "#### **Splitting the dataframes into train and test** ####"
      ]
    },
    {
      "cell_type": "code",
      "execution_count": null,
      "id": "MI2LDLiLVCMz",
      "metadata": {
        "id": "MI2LDLiLVCMz"
      },
      "outputs": [],
      "source": [
        "!pip install pycaret"
      ]
    },
    {
      "cell_type": "code",
      "execution_count": null,
      "id": "HUCVMhLQVDKC",
      "metadata": {
        "id": "HUCVMhLQVDKC"
      },
      "outputs": [],
      "source": [
        "# import pycaret classification and init setup\n",
        "from pycaret.classification import *\n",
        "setup(MPXV_df, target = 'condition', train_size = 0.8, session_id = 123)\n",
        "# setup(X_iq, target = 'total_cases', train_size = 0.8, session_id = 123)"
      ]
    },
    {
      "cell_type": "code",
      "source": [
        "import pycaret\n",
        "print(pycaret.__version__)\n"
      ],
      "metadata": {
        "id": "FHnRvbFYlT6k",
        "outputId": "71f2efc2-9f7b-4891-cd3f-b148cdce8394",
        "colab": {
          "base_uri": "https://localhost:8080/"
        }
      },
      "id": "FHnRvbFYlT6k",
      "execution_count": null,
      "outputs": [
        {
          "output_type": "stream",
          "name": "stdout",
          "text": [
            "3.3.2\n"
          ]
        }
      ]
    },
    {
      "cell_type": "markdown",
      "id": "jbTN3yrWWFaI",
      "metadata": {
        "id": "jbTN3yrWWFaI"
      },
      "source": [
        "## **Compare Models** ##"
      ]
    },
    {
      "cell_type": "code",
      "execution_count": null,
      "id": "mGTTyISLVDS7",
      "metadata": {
        "colab": {
          "base_uri": "https://localhost:8080/",
          "height": 665,
          "referenced_widgets": [
            "ab82e5b99783435e8a8afdbf97f6435b",
            "b8b8b650ed4a40ec9359074a253bc52d",
            "9713f396e4a3497da5a24b38d3121ed3",
            "9276a558381544c5805f5e5ba0e8a846",
            "09190d89fe5c4fbc9593055c0aeaaaae",
            "cddcf44e24ff4655a228528b47c60f7a",
            "2758f560a415432c8b1193e0dfa68cc1",
            "8caa9f9ec5ef428a9b9bc23cceb01125",
            "f643444fd836400588f76d5235cd0359",
            "18e4b9d21c18428b8f36be360d542bb9",
            "d7ee3b52559f42a3a8665009ac3a242d"
          ]
        },
        "id": "mGTTyISLVDS7",
        "outputId": "84998e85-eb0b-4696-b511-1f0cc51569fc"
      },
      "outputs": [
        {
          "output_type": "display_data",
          "data": {
            "text/plain": [
              "<IPython.core.display.HTML object>"
            ],
            "text/html": []
          },
          "metadata": {}
        },
        {
          "output_type": "display_data",
          "data": {
            "text/plain": [
              "<pandas.io.formats.style.Styler at 0x7966e190cc10>"
            ],
            "text/html": [
              "<style type=\"text/css\">\n",
              "#T_b9f82 th {\n",
              "  text-align: left;\n",
              "}\n",
              "#T_b9f82_row0_col0, #T_b9f82_row0_col3, #T_b9f82_row0_col4, #T_b9f82_row0_col5, #T_b9f82_row0_col6, #T_b9f82_row0_col7, #T_b9f82_row1_col0, #T_b9f82_row1_col3, #T_b9f82_row1_col4, #T_b9f82_row1_col5, #T_b9f82_row1_col6, #T_b9f82_row1_col7, #T_b9f82_row2_col0, #T_b9f82_row2_col1, #T_b9f82_row2_col2, #T_b9f82_row2_col3, #T_b9f82_row2_col4, #T_b9f82_row2_col5, #T_b9f82_row2_col6, #T_b9f82_row2_col7, #T_b9f82_row3_col0, #T_b9f82_row3_col1, #T_b9f82_row3_col2, #T_b9f82_row3_col3, #T_b9f82_row3_col4, #T_b9f82_row3_col5, #T_b9f82_row3_col6, #T_b9f82_row3_col7, #T_b9f82_row4_col0, #T_b9f82_row4_col1, #T_b9f82_row4_col2, #T_b9f82_row4_col6, #T_b9f82_row5_col0, #T_b9f82_row5_col1, #T_b9f82_row5_col2, #T_b9f82_row5_col3, #T_b9f82_row5_col4, #T_b9f82_row5_col5, #T_b9f82_row5_col6, #T_b9f82_row5_col7, #T_b9f82_row6_col0, #T_b9f82_row6_col1, #T_b9f82_row6_col3, #T_b9f82_row6_col4, #T_b9f82_row6_col5, #T_b9f82_row6_col6, #T_b9f82_row6_col7, #T_b9f82_row7_col0, #T_b9f82_row7_col1, #T_b9f82_row7_col2, #T_b9f82_row7_col3, #T_b9f82_row7_col4, #T_b9f82_row7_col5, #T_b9f82_row7_col6, #T_b9f82_row7_col7, #T_b9f82_row8_col0, #T_b9f82_row8_col1, #T_b9f82_row8_col2, #T_b9f82_row8_col3, #T_b9f82_row8_col4, #T_b9f82_row8_col5, #T_b9f82_row8_col6, #T_b9f82_row8_col7, #T_b9f82_row9_col0, #T_b9f82_row9_col1, #T_b9f82_row9_col2, #T_b9f82_row9_col3, #T_b9f82_row9_col4, #T_b9f82_row9_col5, #T_b9f82_row9_col6, #T_b9f82_row9_col7, #T_b9f82_row10_col0, #T_b9f82_row10_col1, #T_b9f82_row10_col2, #T_b9f82_row10_col3, #T_b9f82_row10_col4, #T_b9f82_row10_col5, #T_b9f82_row10_col6, #T_b9f82_row10_col7, #T_b9f82_row11_col0, #T_b9f82_row11_col1, #T_b9f82_row11_col2, #T_b9f82_row11_col3, #T_b9f82_row11_col4, #T_b9f82_row11_col5, #T_b9f82_row11_col6, #T_b9f82_row11_col7, #T_b9f82_row12_col0, #T_b9f82_row12_col1, #T_b9f82_row12_col3, #T_b9f82_row12_col4, #T_b9f82_row12_col5, #T_b9f82_row12_col6, #T_b9f82_row12_col7, #T_b9f82_row13_col0, #T_b9f82_row13_col1, #T_b9f82_row13_col2, #T_b9f82_row13_col3, #T_b9f82_row13_col4, #T_b9f82_row13_col5, #T_b9f82_row13_col6, #T_b9f82_row13_col7, #T_b9f82_row14_col0, #T_b9f82_row14_col1, #T_b9f82_row14_col2, #T_b9f82_row14_col3, #T_b9f82_row14_col4, #T_b9f82_row14_col5, #T_b9f82_row14_col6, #T_b9f82_row14_col7 {\n",
              "  text-align: left;\n",
              "}\n",
              "#T_b9f82_row0_col1, #T_b9f82_row0_col2, #T_b9f82_row1_col1, #T_b9f82_row1_col2, #T_b9f82_row4_col3, #T_b9f82_row4_col4, #T_b9f82_row4_col5, #T_b9f82_row4_col7, #T_b9f82_row6_col2, #T_b9f82_row12_col2 {\n",
              "  text-align: left;\n",
              "  background-color: yellow;\n",
              "}\n",
              "#T_b9f82_row0_col8, #T_b9f82_row1_col8, #T_b9f82_row2_col8, #T_b9f82_row3_col8, #T_b9f82_row4_col8, #T_b9f82_row5_col8, #T_b9f82_row6_col8, #T_b9f82_row7_col8, #T_b9f82_row8_col8, #T_b9f82_row9_col8, #T_b9f82_row11_col8, #T_b9f82_row12_col8, #T_b9f82_row13_col8, #T_b9f82_row14_col8 {\n",
              "  text-align: left;\n",
              "  background-color: lightgrey;\n",
              "}\n",
              "#T_b9f82_row10_col8 {\n",
              "  text-align: left;\n",
              "  background-color: yellow;\n",
              "  background-color: lightgrey;\n",
              "}\n",
              "</style>\n",
              "<table id=\"T_b9f82\" class=\"dataframe\">\n",
              "  <thead>\n",
              "    <tr>\n",
              "      <th class=\"blank level0\" >&nbsp;</th>\n",
              "      <th id=\"T_b9f82_level0_col0\" class=\"col_heading level0 col0\" >Model</th>\n",
              "      <th id=\"T_b9f82_level0_col1\" class=\"col_heading level0 col1\" >Accuracy</th>\n",
              "      <th id=\"T_b9f82_level0_col2\" class=\"col_heading level0 col2\" >AUC</th>\n",
              "      <th id=\"T_b9f82_level0_col3\" class=\"col_heading level0 col3\" >Recall</th>\n",
              "      <th id=\"T_b9f82_level0_col4\" class=\"col_heading level0 col4\" >Prec.</th>\n",
              "      <th id=\"T_b9f82_level0_col5\" class=\"col_heading level0 col5\" >F1</th>\n",
              "      <th id=\"T_b9f82_level0_col6\" class=\"col_heading level0 col6\" >Kappa</th>\n",
              "      <th id=\"T_b9f82_level0_col7\" class=\"col_heading level0 col7\" >MCC</th>\n",
              "      <th id=\"T_b9f82_level0_col8\" class=\"col_heading level0 col8\" >TT (Sec)</th>\n",
              "    </tr>\n",
              "  </thead>\n",
              "  <tbody>\n",
              "    <tr>\n",
              "      <th id=\"T_b9f82_level0_row0\" class=\"row_heading level0 row0\" >rf</th>\n",
              "      <td id=\"T_b9f82_row0_col0\" class=\"data row0 col0\" >Random Forest Classifier</td>\n",
              "      <td id=\"T_b9f82_row0_col1\" class=\"data row0 col1\" >0.9000</td>\n",
              "      <td id=\"T_b9f82_row0_col2\" class=\"data row0 col2\" >0.5000</td>\n",
              "      <td id=\"T_b9f82_row0_col3\" class=\"data row0 col3\" >0.3000</td>\n",
              "      <td id=\"T_b9f82_row0_col4\" class=\"data row0 col4\" >0.3000</td>\n",
              "      <td id=\"T_b9f82_row0_col5\" class=\"data row0 col5\" >0.3000</td>\n",
              "      <td id=\"T_b9f82_row0_col6\" class=\"data row0 col6\" >nan</td>\n",
              "      <td id=\"T_b9f82_row0_col7\" class=\"data row0 col7\" >0.3000</td>\n",
              "      <td id=\"T_b9f82_row0_col8\" class=\"data row0 col8\" >0.3950</td>\n",
              "    </tr>\n",
              "    <tr>\n",
              "      <th id=\"T_b9f82_level0_row1\" class=\"row_heading level0 row1\" >et</th>\n",
              "      <td id=\"T_b9f82_row1_col0\" class=\"data row1 col0\" >Extra Trees Classifier</td>\n",
              "      <td id=\"T_b9f82_row1_col1\" class=\"data row1 col1\" >0.9000</td>\n",
              "      <td id=\"T_b9f82_row1_col2\" class=\"data row1 col2\" >0.5000</td>\n",
              "      <td id=\"T_b9f82_row1_col3\" class=\"data row1 col3\" >0.3000</td>\n",
              "      <td id=\"T_b9f82_row1_col4\" class=\"data row1 col4\" >0.3000</td>\n",
              "      <td id=\"T_b9f82_row1_col5\" class=\"data row1 col5\" >0.3000</td>\n",
              "      <td id=\"T_b9f82_row1_col6\" class=\"data row1 col6\" >nan</td>\n",
              "      <td id=\"T_b9f82_row1_col7\" class=\"data row1 col7\" >0.3000</td>\n",
              "      <td id=\"T_b9f82_row1_col8\" class=\"data row1 col8\" >0.1560</td>\n",
              "    </tr>\n",
              "    <tr>\n",
              "      <th id=\"T_b9f82_level0_row2\" class=\"row_heading level0 row2\" >svm</th>\n",
              "      <td id=\"T_b9f82_row2_col0\" class=\"data row2 col0\" >SVM - Linear Kernel</td>\n",
              "      <td id=\"T_b9f82_row2_col1\" class=\"data row2 col1\" >0.8500</td>\n",
              "      <td id=\"T_b9f82_row2_col2\" class=\"data row2 col2\" >0.3000</td>\n",
              "      <td id=\"T_b9f82_row2_col3\" class=\"data row2 col3\" >0.3000</td>\n",
              "      <td id=\"T_b9f82_row2_col4\" class=\"data row2 col4\" >0.2500</td>\n",
              "      <td id=\"T_b9f82_row2_col5\" class=\"data row2 col5\" >0.2667</td>\n",
              "      <td id=\"T_b9f82_row2_col6\" class=\"data row2 col6\" >nan</td>\n",
              "      <td id=\"T_b9f82_row2_col7\" class=\"data row2 col7\" >0.2000</td>\n",
              "      <td id=\"T_b9f82_row2_col8\" class=\"data row2 col8\" >0.0670</td>\n",
              "    </tr>\n",
              "    <tr>\n",
              "      <th id=\"T_b9f82_level0_row3\" class=\"row_heading level0 row3\" >ada</th>\n",
              "      <td id=\"T_b9f82_row3_col0\" class=\"data row3 col0\" >Ada Boost Classifier</td>\n",
              "      <td id=\"T_b9f82_row3_col1\" class=\"data row3 col1\" >0.8500</td>\n",
              "      <td id=\"T_b9f82_row3_col2\" class=\"data row3 col2\" >0.3500</td>\n",
              "      <td id=\"T_b9f82_row3_col3\" class=\"data row3 col3\" >0.3000</td>\n",
              "      <td id=\"T_b9f82_row3_col4\" class=\"data row3 col4\" >0.3000</td>\n",
              "      <td id=\"T_b9f82_row3_col5\" class=\"data row3 col5\" >0.3000</td>\n",
              "      <td id=\"T_b9f82_row3_col6\" class=\"data row3 col6\" >nan</td>\n",
              "      <td id=\"T_b9f82_row3_col7\" class=\"data row3 col7\" >0.2000</td>\n",
              "      <td id=\"T_b9f82_row3_col8\" class=\"data row3 col8\" >0.1800</td>\n",
              "    </tr>\n",
              "    <tr>\n",
              "      <th id=\"T_b9f82_level0_row4\" class=\"row_heading level0 row4\" >qda</th>\n",
              "      <td id=\"T_b9f82_row4_col0\" class=\"data row4 col0\" >Quadratic Discriminant Analysis</td>\n",
              "      <td id=\"T_b9f82_row4_col1\" class=\"data row4 col1\" >0.8000</td>\n",
              "      <td id=\"T_b9f82_row4_col2\" class=\"data row4 col2\" >0.4000</td>\n",
              "      <td id=\"T_b9f82_row4_col3\" class=\"data row4 col3\" >0.5000</td>\n",
              "      <td id=\"T_b9f82_row4_col4\" class=\"data row4 col4\" >0.4500</td>\n",
              "      <td id=\"T_b9f82_row4_col5\" class=\"data row4 col5\" >0.4667</td>\n",
              "      <td id=\"T_b9f82_row4_col6\" class=\"data row4 col6\" >nan</td>\n",
              "      <td id=\"T_b9f82_row4_col7\" class=\"data row4 col7\" >0.4000</td>\n",
              "      <td id=\"T_b9f82_row4_col8\" class=\"data row4 col8\" >0.0600</td>\n",
              "    </tr>\n",
              "    <tr>\n",
              "      <th id=\"T_b9f82_level0_row5\" class=\"row_heading level0 row5\" >gbc</th>\n",
              "      <td id=\"T_b9f82_row5_col0\" class=\"data row5 col0\" >Gradient Boosting Classifier</td>\n",
              "      <td id=\"T_b9f82_row5_col1\" class=\"data row5 col1\" >0.8000</td>\n",
              "      <td id=\"T_b9f82_row5_col2\" class=\"data row5 col2\" >0.3500</td>\n",
              "      <td id=\"T_b9f82_row5_col3\" class=\"data row5 col3\" >0.3000</td>\n",
              "      <td id=\"T_b9f82_row5_col4\" class=\"data row5 col4\" >0.3000</td>\n",
              "      <td id=\"T_b9f82_row5_col5\" class=\"data row5 col5\" >0.3000</td>\n",
              "      <td id=\"T_b9f82_row5_col6\" class=\"data row5 col6\" >nan</td>\n",
              "      <td id=\"T_b9f82_row5_col7\" class=\"data row5 col7\" >0.2000</td>\n",
              "      <td id=\"T_b9f82_row5_col8\" class=\"data row5 col8\" >0.1810</td>\n",
              "    </tr>\n",
              "    <tr>\n",
              "      <th id=\"T_b9f82_level0_row6\" class=\"row_heading level0 row6\" >lr</th>\n",
              "      <td id=\"T_b9f82_row6_col0\" class=\"data row6 col0\" >Logistic Regression</td>\n",
              "      <td id=\"T_b9f82_row6_col1\" class=\"data row6 col1\" >0.7500</td>\n",
              "      <td id=\"T_b9f82_row6_col2\" class=\"data row6 col2\" >0.5000</td>\n",
              "      <td id=\"T_b9f82_row6_col3\" class=\"data row6 col3\" >0.3000</td>\n",
              "      <td id=\"T_b9f82_row6_col4\" class=\"data row6 col4\" >0.2500</td>\n",
              "      <td id=\"T_b9f82_row6_col5\" class=\"data row6 col5\" >0.2667</td>\n",
              "      <td id=\"T_b9f82_row6_col6\" class=\"data row6 col6\" >nan</td>\n",
              "      <td id=\"T_b9f82_row6_col7\" class=\"data row6 col7\" >0.2000</td>\n",
              "      <td id=\"T_b9f82_row6_col8\" class=\"data row6 col8\" >1.4010</td>\n",
              "    </tr>\n",
              "    <tr>\n",
              "      <th id=\"T_b9f82_level0_row7\" class=\"row_heading level0 row7\" >knn</th>\n",
              "      <td id=\"T_b9f82_row7_col0\" class=\"data row7 col0\" >K Neighbors Classifier</td>\n",
              "      <td id=\"T_b9f82_row7_col1\" class=\"data row7 col1\" >0.7500</td>\n",
              "      <td id=\"T_b9f82_row7_col2\" class=\"data row7 col2\" >0.4000</td>\n",
              "      <td id=\"T_b9f82_row7_col3\" class=\"data row7 col3\" >0.0000</td>\n",
              "      <td id=\"T_b9f82_row7_col4\" class=\"data row7 col4\" >0.0000</td>\n",
              "      <td id=\"T_b9f82_row7_col5\" class=\"data row7 col5\" >0.0000</td>\n",
              "      <td id=\"T_b9f82_row7_col6\" class=\"data row7 col6\" >nan</td>\n",
              "      <td id=\"T_b9f82_row7_col7\" class=\"data row7 col7\" >0.0000</td>\n",
              "      <td id=\"T_b9f82_row7_col8\" class=\"data row7 col8\" >0.1020</td>\n",
              "    </tr>\n",
              "    <tr>\n",
              "      <th id=\"T_b9f82_level0_row8\" class=\"row_heading level0 row8\" >xgboost</th>\n",
              "      <td id=\"T_b9f82_row8_col0\" class=\"data row8 col0\" >Extreme Gradient Boosting</td>\n",
              "      <td id=\"T_b9f82_row8_col1\" class=\"data row8 col1\" >0.7500</td>\n",
              "      <td id=\"T_b9f82_row8_col2\" class=\"data row8 col2\" >0.3000</td>\n",
              "      <td id=\"T_b9f82_row8_col3\" class=\"data row8 col3\" >0.3000</td>\n",
              "      <td id=\"T_b9f82_row8_col4\" class=\"data row8 col4\" >0.2500</td>\n",
              "      <td id=\"T_b9f82_row8_col5\" class=\"data row8 col5\" >0.2667</td>\n",
              "      <td id=\"T_b9f82_row8_col6\" class=\"data row8 col6\" >nan</td>\n",
              "      <td id=\"T_b9f82_row8_col7\" class=\"data row8 col7\" >0.2000</td>\n",
              "      <td id=\"T_b9f82_row8_col8\" class=\"data row8 col8\" >0.0590</td>\n",
              "    </tr>\n",
              "    <tr>\n",
              "      <th id=\"T_b9f82_level0_row9\" class=\"row_heading level0 row9\" >lightgbm</th>\n",
              "      <td id=\"T_b9f82_row9_col0\" class=\"data row9 col0\" >Light Gradient Boosting Machine</td>\n",
              "      <td id=\"T_b9f82_row9_col1\" class=\"data row9 col1\" >0.7500</td>\n",
              "      <td id=\"T_b9f82_row9_col2\" class=\"data row9 col2\" >0.2500</td>\n",
              "      <td id=\"T_b9f82_row9_col3\" class=\"data row9 col3\" >0.0000</td>\n",
              "      <td id=\"T_b9f82_row9_col4\" class=\"data row9 col4\" >0.0000</td>\n",
              "      <td id=\"T_b9f82_row9_col5\" class=\"data row9 col5\" >0.0000</td>\n",
              "      <td id=\"T_b9f82_row9_col6\" class=\"data row9 col6\" >nan</td>\n",
              "      <td id=\"T_b9f82_row9_col7\" class=\"data row9 col7\" >0.0000</td>\n",
              "      <td id=\"T_b9f82_row9_col8\" class=\"data row9 col8\" >0.1400</td>\n",
              "    </tr>\n",
              "    <tr>\n",
              "      <th id=\"T_b9f82_level0_row10\" class=\"row_heading level0 row10\" >dummy</th>\n",
              "      <td id=\"T_b9f82_row10_col0\" class=\"data row10 col0\" >Dummy Classifier</td>\n",
              "      <td id=\"T_b9f82_row10_col1\" class=\"data row10 col1\" >0.7500</td>\n",
              "      <td id=\"T_b9f82_row10_col2\" class=\"data row10 col2\" >0.2500</td>\n",
              "      <td id=\"T_b9f82_row10_col3\" class=\"data row10 col3\" >0.0000</td>\n",
              "      <td id=\"T_b9f82_row10_col4\" class=\"data row10 col4\" >0.0000</td>\n",
              "      <td id=\"T_b9f82_row10_col5\" class=\"data row10 col5\" >0.0000</td>\n",
              "      <td id=\"T_b9f82_row10_col6\" class=\"data row10 col6\" >nan</td>\n",
              "      <td id=\"T_b9f82_row10_col7\" class=\"data row10 col7\" >0.0000</td>\n",
              "      <td id=\"T_b9f82_row10_col8\" class=\"data row10 col8\" >0.0300</td>\n",
              "    </tr>\n",
              "    <tr>\n",
              "      <th id=\"T_b9f82_level0_row11\" class=\"row_heading level0 row11\" >dt</th>\n",
              "      <td id=\"T_b9f82_row11_col0\" class=\"data row11 col0\" >Decision Tree Classifier</td>\n",
              "      <td id=\"T_b9f82_row11_col1\" class=\"data row11 col1\" >0.7000</td>\n",
              "      <td id=\"T_b9f82_row11_col2\" class=\"data row11 col2\" >0.3500</td>\n",
              "      <td id=\"T_b9f82_row11_col3\" class=\"data row11 col3\" >0.3000</td>\n",
              "      <td id=\"T_b9f82_row11_col4\" class=\"data row11 col4\" >0.3000</td>\n",
              "      <td id=\"T_b9f82_row11_col5\" class=\"data row11 col5\" >0.3000</td>\n",
              "      <td id=\"T_b9f82_row11_col6\" class=\"data row11 col6\" >nan</td>\n",
              "      <td id=\"T_b9f82_row11_col7\" class=\"data row11 col7\" >0.2000</td>\n",
              "      <td id=\"T_b9f82_row11_col8\" class=\"data row11 col8\" >0.0600</td>\n",
              "    </tr>\n",
              "    <tr>\n",
              "      <th id=\"T_b9f82_level0_row12\" class=\"row_heading level0 row12\" >nb</th>\n",
              "      <td id=\"T_b9f82_row12_col0\" class=\"data row12 col0\" >Naive Bayes</td>\n",
              "      <td id=\"T_b9f82_row12_col1\" class=\"data row12 col1\" >0.6500</td>\n",
              "      <td id=\"T_b9f82_row12_col2\" class=\"data row12 col2\" >0.5000</td>\n",
              "      <td id=\"T_b9f82_row12_col3\" class=\"data row12 col3\" >0.3000</td>\n",
              "      <td id=\"T_b9f82_row12_col4\" class=\"data row12 col4\" >0.2500</td>\n",
              "      <td id=\"T_b9f82_row12_col5\" class=\"data row12 col5\" >0.2667</td>\n",
              "      <td id=\"T_b9f82_row12_col6\" class=\"data row12 col6\" >nan</td>\n",
              "      <td id=\"T_b9f82_row12_col7\" class=\"data row12 col7\" >0.2000</td>\n",
              "      <td id=\"T_b9f82_row12_col8\" class=\"data row12 col8\" >0.0520</td>\n",
              "    </tr>\n",
              "    <tr>\n",
              "      <th id=\"T_b9f82_level0_row13\" class=\"row_heading level0 row13\" >ridge</th>\n",
              "      <td id=\"T_b9f82_row13_col0\" class=\"data row13 col0\" >Ridge Classifier</td>\n",
              "      <td id=\"T_b9f82_row13_col1\" class=\"data row13 col1\" >0.6500</td>\n",
              "      <td id=\"T_b9f82_row13_col2\" class=\"data row13 col2\" >0.3000</td>\n",
              "      <td id=\"T_b9f82_row13_col3\" class=\"data row13 col3\" >0.2000</td>\n",
              "      <td id=\"T_b9f82_row13_col4\" class=\"data row13 col4\" >0.2000</td>\n",
              "      <td id=\"T_b9f82_row13_col5\" class=\"data row13 col5\" >0.2000</td>\n",
              "      <td id=\"T_b9f82_row13_col6\" class=\"data row13 col6\" >nan</td>\n",
              "      <td id=\"T_b9f82_row13_col7\" class=\"data row13 col7\" >0.0000</td>\n",
              "      <td id=\"T_b9f82_row13_col8\" class=\"data row13 col8\" >0.0720</td>\n",
              "    </tr>\n",
              "    <tr>\n",
              "      <th id=\"T_b9f82_level0_row14\" class=\"row_heading level0 row14\" >lda</th>\n",
              "      <td id=\"T_b9f82_row14_col0\" class=\"data row14 col0\" >Linear Discriminant Analysis</td>\n",
              "      <td id=\"T_b9f82_row14_col1\" class=\"data row14 col1\" >0.6000</td>\n",
              "      <td id=\"T_b9f82_row14_col2\" class=\"data row14 col2\" >0.2000</td>\n",
              "      <td id=\"T_b9f82_row14_col3\" class=\"data row14 col3\" >0.1000</td>\n",
              "      <td id=\"T_b9f82_row14_col4\" class=\"data row14 col4\" >0.1000</td>\n",
              "      <td id=\"T_b9f82_row14_col5\" class=\"data row14 col5\" >0.1000</td>\n",
              "      <td id=\"T_b9f82_row14_col6\" class=\"data row14 col6\" >nan</td>\n",
              "      <td id=\"T_b9f82_row14_col7\" class=\"data row14 col7\" >-0.1000</td>\n",
              "      <td id=\"T_b9f82_row14_col8\" class=\"data row14 col8\" >0.0350</td>\n",
              "    </tr>\n",
              "  </tbody>\n",
              "</table>\n"
            ]
          },
          "metadata": {}
        },
        {
          "output_type": "display_data",
          "data": {
            "text/plain": [
              "Processing:   0%|          | 0/65 [00:00<?, ?it/s]"
            ],
            "application/vnd.jupyter.widget-view+json": {
              "version_major": 2,
              "version_minor": 0,
              "model_id": "ab82e5b99783435e8a8afdbf97f6435b"
            }
          },
          "metadata": {
            "application/vnd.jupyter.widget-view+json": {
              "colab": {
                "custom_widget_manager": {
                  "url": "https://ssl.gstatic.com/colaboratory-static/widgets/colab-cdn-widget-manager/2b70e893a8ba7c0f/manager.min.js"
                }
              }
            }
          }
        },
        {
          "output_type": "display_data",
          "data": {
            "text/plain": [
              "<IPython.core.display.HTML object>"
            ],
            "text/html": []
          },
          "metadata": {}
        },
        {
          "output_type": "stream",
          "name": "stdout",
          "text": [
            "RandomForestClassifier(bootstrap=True, ccp_alpha=0.0, class_weight=None,\n",
            "                       criterion='gini', max_depth=None, max_features='sqrt',\n",
            "                       max_leaf_nodes=None, max_samples=None,\n",
            "                       min_impurity_decrease=0.0, min_samples_leaf=1,\n",
            "                       min_samples_split=2, min_weight_fraction_leaf=0.0,\n",
            "                       monotonic_cst=None, n_estimators=100, n_jobs=-1,\n",
            "                       oob_score=False, random_state=123, verbose=0,\n",
            "                       warm_start=False)\n"
          ]
        }
      ],
      "source": [
        "# compare baseline models\n",
        "best = compare_models()\n",
        "print(best)"
      ]
    },
    {
      "cell_type": "markdown",
      "id": "s2WbUeriWW3z",
      "metadata": {
        "id": "s2WbUeriWW3z"
      },
      "source": [
        "## **Create Model**##"
      ]
    },
    {
      "cell_type": "code",
      "execution_count": null,
      "id": "u-GzCp2ZVDVg",
      "metadata": {
        "id": "u-GzCp2ZVDVg"
      },
      "outputs": [],
      "source": [
        "# create model\n",
        "rf = create_model('rf')"
      ]
    },
    {
      "cell_type": "code",
      "execution_count": null,
      "id": "fXm_ULzwVDYW",
      "metadata": {
        "id": "fXm_ULzwVDYW"
      },
      "outputs": [],
      "source": [
        "# print model parameters\n",
        "print(rf)"
      ]
    },
    {
      "cell_type": "markdown",
      "id": "fpnOYygrXO9y",
      "metadata": {
        "id": "fpnOYygrXO9y"
      },
      "source": [
        "## **Tune Model** ##"
      ]
    },
    {
      "cell_type": "code",
      "execution_count": null,
      "id": "T7MJRLyWVDbK",
      "metadata": {
        "id": "T7MJRLyWVDbK"
      },
      "outputs": [],
      "source": [
        "# tune hyperparameters of et\n",
        "tuned_rf = tune_model(rf)"
      ]
    },
    {
      "cell_type": "code",
      "execution_count": null,
      "id": "28WUmpukXRjs",
      "metadata": {
        "id": "28WUmpukXRjs"
      },
      "outputs": [],
      "source": [
        "# print tuned model\n",
        "print(tuned_rf)"
      ]
    },
    {
      "cell_type": "code",
      "execution_count": null,
      "id": "ZLPRLDfqXSlK",
      "metadata": {
        "id": "ZLPRLDfqXSlK"
      },
      "outputs": [],
      "source": [
        "tuned_rf"
      ]
    },
    {
      "cell_type": "code",
      "execution_count": null,
      "id": "IXy9X0hvXSik",
      "metadata": {
        "id": "IXy9X0hvXSik"
      },
      "outputs": [],
      "source": [
        "# to access the tuner object you can set return_tuner = True\n",
        "tuned_rf, tuner = tune_model(rf, return_tuner=True)"
      ]
    },
    {
      "cell_type": "code",
      "execution_count": null,
      "id": "TXRUM3SRXSn_",
      "metadata": {
        "colab": {
          "base_uri": "https://localhost:8080/",
          "height": 369
        },
        "id": "TXRUM3SRXSn_",
        "outputId": "adb97247-5b34-4199-e4bf-0800712dac99"
      },
      "outputs": [
        {
          "output_type": "execute_result",
          "data": {
            "text/plain": [
              "RandomizedSearchCV(cv=StratifiedKFold(n_splits=10, random_state=None, shuffle=False),\n",
              "                   error_score=nan,\n",
              "                   estimator=Pipeline(memory=Memory(location=None),\n",
              "                                      steps=[('numerical_imputer',\n",
              "                                              TransformerWrapper(exclude=None,\n",
              "                                                                 include=['AURKA',\n",
              "                                                                          'CDC20',\n",
              "                                                                          'CCNB1',\n",
              "                                                                          'KIF11',\n",
              "                                                                          'HSPG2',\n",
              "                                                                          'CCNA2',\n",
              "                                                                          'BUB1B',\n",
              "                                                                          'CCNB2',\n",
              "                                                                          'BUB1',\n",
              "                                                                          'RRM2',\n",
              "                                                                          'CTBP2',\n",
              "                                                                          'UBE2C',\n",
              "                                                                          'TXNRD1'],\n",
              "                                                                 transformer=SimpleImputer(add_...\n",
              "                                        'actual_estimator__min_samples_leaf': [2,\n",
              "                                                                               3,\n",
              "                                                                               4,\n",
              "                                                                               5,\n",
              "                                                                               6],\n",
              "                                        'actual_estimator__min_samples_split': [2,\n",
              "                                                                                5,\n",
              "                                                                                7,\n",
              "                                                                                9,\n",
              "                                                                                10],\n",
              "                                        'actual_estimator__n_estimators': [10,\n",
              "                                                                           20,\n",
              "                                                                           30,\n",
              "                                                                           40,\n",
              "                                                                           50,\n",
              "                                                                           60,\n",
              "                                                                           70,\n",
              "                                                                           80,\n",
              "                                                                           90,\n",
              "                                                                           100,\n",
              "                                                                           110,\n",
              "                                                                           120,\n",
              "                                                                           130,\n",
              "                                                                           140,\n",
              "                                                                           150,\n",
              "                                                                           160,\n",
              "                                                                           170,\n",
              "                                                                           180,\n",
              "                                                                           190,\n",
              "                                                                           200,\n",
              "                                                                           210,\n",
              "                                                                           220,\n",
              "                                                                           230,\n",
              "                                                                           240,\n",
              "                                                                           250,\n",
              "                                                                           260,\n",
              "                                                                           270,\n",
              "                                                                           280,\n",
              "                                                                           290,\n",
              "                                                                           300]},\n",
              "                   pre_dispatch='2*n_jobs', random_state=123, refit=False,\n",
              "                   return_train_score=False, scoring='accuracy', verbose=1)"
            ],
            "text/html": [
              "<style>#sk-container-id-2 {\n",
              "  /* Definition of color scheme common for light and dark mode */\n",
              "  --sklearn-color-text: black;\n",
              "  --sklearn-color-line: gray;\n",
              "  /* Definition of color scheme for unfitted estimators */\n",
              "  --sklearn-color-unfitted-level-0: #fff5e6;\n",
              "  --sklearn-color-unfitted-level-1: #f6e4d2;\n",
              "  --sklearn-color-unfitted-level-2: #ffe0b3;\n",
              "  --sklearn-color-unfitted-level-3: chocolate;\n",
              "  /* Definition of color scheme for fitted estimators */\n",
              "  --sklearn-color-fitted-level-0: #f0f8ff;\n",
              "  --sklearn-color-fitted-level-1: #d4ebff;\n",
              "  --sklearn-color-fitted-level-2: #b3dbfd;\n",
              "  --sklearn-color-fitted-level-3: cornflowerblue;\n",
              "\n",
              "  /* Specific color for light theme */\n",
              "  --sklearn-color-text-on-default-background: var(--sg-text-color, var(--theme-code-foreground, var(--jp-content-font-color1, black)));\n",
              "  --sklearn-color-background: var(--sg-background-color, var(--theme-background, var(--jp-layout-color0, white)));\n",
              "  --sklearn-color-border-box: var(--sg-text-color, var(--theme-code-foreground, var(--jp-content-font-color1, black)));\n",
              "  --sklearn-color-icon: #696969;\n",
              "\n",
              "  @media (prefers-color-scheme: dark) {\n",
              "    /* Redefinition of color scheme for dark theme */\n",
              "    --sklearn-color-text-on-default-background: var(--sg-text-color, var(--theme-code-foreground, var(--jp-content-font-color1, white)));\n",
              "    --sklearn-color-background: var(--sg-background-color, var(--theme-background, var(--jp-layout-color0, #111)));\n",
              "    --sklearn-color-border-box: var(--sg-text-color, var(--theme-code-foreground, var(--jp-content-font-color1, white)));\n",
              "    --sklearn-color-icon: #878787;\n",
              "  }\n",
              "}\n",
              "\n",
              "#sk-container-id-2 {\n",
              "  color: var(--sklearn-color-text);\n",
              "}\n",
              "\n",
              "#sk-container-id-2 pre {\n",
              "  padding: 0;\n",
              "}\n",
              "\n",
              "#sk-container-id-2 input.sk-hidden--visually {\n",
              "  border: 0;\n",
              "  clip: rect(1px 1px 1px 1px);\n",
              "  clip: rect(1px, 1px, 1px, 1px);\n",
              "  height: 1px;\n",
              "  margin: -1px;\n",
              "  overflow: hidden;\n",
              "  padding: 0;\n",
              "  position: absolute;\n",
              "  width: 1px;\n",
              "}\n",
              "\n",
              "#sk-container-id-2 div.sk-dashed-wrapped {\n",
              "  border: 1px dashed var(--sklearn-color-line);\n",
              "  margin: 0 0.4em 0.5em 0.4em;\n",
              "  box-sizing: border-box;\n",
              "  padding-bottom: 0.4em;\n",
              "  background-color: var(--sklearn-color-background);\n",
              "}\n",
              "\n",
              "#sk-container-id-2 div.sk-container {\n",
              "  /* jupyter's `normalize.less` sets `[hidden] { display: none; }`\n",
              "     but bootstrap.min.css set `[hidden] { display: none !important; }`\n",
              "     so we also need the `!important` here to be able to override the\n",
              "     default hidden behavior on the sphinx rendered scikit-learn.org.\n",
              "     See: https://github.com/scikit-learn/scikit-learn/issues/21755 */\n",
              "  display: inline-block !important;\n",
              "  position: relative;\n",
              "}\n",
              "\n",
              "#sk-container-id-2 div.sk-text-repr-fallback {\n",
              "  display: none;\n",
              "}\n",
              "\n",
              "div.sk-parallel-item,\n",
              "div.sk-serial,\n",
              "div.sk-item {\n",
              "  /* draw centered vertical line to link estimators */\n",
              "  background-image: linear-gradient(var(--sklearn-color-text-on-default-background), var(--sklearn-color-text-on-default-background));\n",
              "  background-size: 2px 100%;\n",
              "  background-repeat: no-repeat;\n",
              "  background-position: center center;\n",
              "}\n",
              "\n",
              "/* Parallel-specific style estimator block */\n",
              "\n",
              "#sk-container-id-2 div.sk-parallel-item::after {\n",
              "  content: \"\";\n",
              "  width: 100%;\n",
              "  border-bottom: 2px solid var(--sklearn-color-text-on-default-background);\n",
              "  flex-grow: 1;\n",
              "}\n",
              "\n",
              "#sk-container-id-2 div.sk-parallel {\n",
              "  display: flex;\n",
              "  align-items: stretch;\n",
              "  justify-content: center;\n",
              "  background-color: var(--sklearn-color-background);\n",
              "  position: relative;\n",
              "}\n",
              "\n",
              "#sk-container-id-2 div.sk-parallel-item {\n",
              "  display: flex;\n",
              "  flex-direction: column;\n",
              "}\n",
              "\n",
              "#sk-container-id-2 div.sk-parallel-item:first-child::after {\n",
              "  align-self: flex-end;\n",
              "  width: 50%;\n",
              "}\n",
              "\n",
              "#sk-container-id-2 div.sk-parallel-item:last-child::after {\n",
              "  align-self: flex-start;\n",
              "  width: 50%;\n",
              "}\n",
              "\n",
              "#sk-container-id-2 div.sk-parallel-item:only-child::after {\n",
              "  width: 0;\n",
              "}\n",
              "\n",
              "/* Serial-specific style estimator block */\n",
              "\n",
              "#sk-container-id-2 div.sk-serial {\n",
              "  display: flex;\n",
              "  flex-direction: column;\n",
              "  align-items: center;\n",
              "  background-color: var(--sklearn-color-background);\n",
              "  padding-right: 1em;\n",
              "  padding-left: 1em;\n",
              "}\n",
              "\n",
              "\n",
              "/* Toggleable style: style used for estimator/Pipeline/ColumnTransformer box that is\n",
              "clickable and can be expanded/collapsed.\n",
              "- Pipeline and ColumnTransformer use this feature and define the default style\n",
              "- Estimators will overwrite some part of the style using the `sk-estimator` class\n",
              "*/\n",
              "\n",
              "/* Pipeline and ColumnTransformer style (default) */\n",
              "\n",
              "#sk-container-id-2 div.sk-toggleable {\n",
              "  /* Default theme specific background. It is overwritten whether we have a\n",
              "  specific estimator or a Pipeline/ColumnTransformer */\n",
              "  background-color: var(--sklearn-color-background);\n",
              "}\n",
              "\n",
              "/* Toggleable label */\n",
              "#sk-container-id-2 label.sk-toggleable__label {\n",
              "  cursor: pointer;\n",
              "  display: block;\n",
              "  width: 100%;\n",
              "  margin-bottom: 0;\n",
              "  padding: 0.5em;\n",
              "  box-sizing: border-box;\n",
              "  text-align: center;\n",
              "}\n",
              "\n",
              "#sk-container-id-2 label.sk-toggleable__label-arrow:before {\n",
              "  /* Arrow on the left of the label */\n",
              "  content: \"▸\";\n",
              "  float: left;\n",
              "  margin-right: 0.25em;\n",
              "  color: var(--sklearn-color-icon);\n",
              "}\n",
              "\n",
              "#sk-container-id-2 label.sk-toggleable__label-arrow:hover:before {\n",
              "  color: var(--sklearn-color-text);\n",
              "}\n",
              "\n",
              "/* Toggleable content - dropdown */\n",
              "\n",
              "#sk-container-id-2 div.sk-toggleable__content {\n",
              "  max-height: 0;\n",
              "  max-width: 0;\n",
              "  overflow: hidden;\n",
              "  text-align: left;\n",
              "  /* unfitted */\n",
              "  background-color: var(--sklearn-color-unfitted-level-0);\n",
              "}\n",
              "\n",
              "#sk-container-id-2 div.sk-toggleable__content.fitted {\n",
              "  /* fitted */\n",
              "  background-color: var(--sklearn-color-fitted-level-0);\n",
              "}\n",
              "\n",
              "#sk-container-id-2 div.sk-toggleable__content pre {\n",
              "  margin: 0.2em;\n",
              "  border-radius: 0.25em;\n",
              "  color: var(--sklearn-color-text);\n",
              "  /* unfitted */\n",
              "  background-color: var(--sklearn-color-unfitted-level-0);\n",
              "}\n",
              "\n",
              "#sk-container-id-2 div.sk-toggleable__content.fitted pre {\n",
              "  /* unfitted */\n",
              "  background-color: var(--sklearn-color-fitted-level-0);\n",
              "}\n",
              "\n",
              "#sk-container-id-2 input.sk-toggleable__control:checked~div.sk-toggleable__content {\n",
              "  /* Expand drop-down */\n",
              "  max-height: 200px;\n",
              "  max-width: 100%;\n",
              "  overflow: auto;\n",
              "}\n",
              "\n",
              "#sk-container-id-2 input.sk-toggleable__control:checked~label.sk-toggleable__label-arrow:before {\n",
              "  content: \"▾\";\n",
              "}\n",
              "\n",
              "/* Pipeline/ColumnTransformer-specific style */\n",
              "\n",
              "#sk-container-id-2 div.sk-label input.sk-toggleable__control:checked~label.sk-toggleable__label {\n",
              "  color: var(--sklearn-color-text);\n",
              "  background-color: var(--sklearn-color-unfitted-level-2);\n",
              "}\n",
              "\n",
              "#sk-container-id-2 div.sk-label.fitted input.sk-toggleable__control:checked~label.sk-toggleable__label {\n",
              "  background-color: var(--sklearn-color-fitted-level-2);\n",
              "}\n",
              "\n",
              "/* Estimator-specific style */\n",
              "\n",
              "/* Colorize estimator box */\n",
              "#sk-container-id-2 div.sk-estimator input.sk-toggleable__control:checked~label.sk-toggleable__label {\n",
              "  /* unfitted */\n",
              "  background-color: var(--sklearn-color-unfitted-level-2);\n",
              "}\n",
              "\n",
              "#sk-container-id-2 div.sk-estimator.fitted input.sk-toggleable__control:checked~label.sk-toggleable__label {\n",
              "  /* fitted */\n",
              "  background-color: var(--sklearn-color-fitted-level-2);\n",
              "}\n",
              "\n",
              "#sk-container-id-2 div.sk-label label.sk-toggleable__label,\n",
              "#sk-container-id-2 div.sk-label label {\n",
              "  /* The background is the default theme color */\n",
              "  color: var(--sklearn-color-text-on-default-background);\n",
              "}\n",
              "\n",
              "/* On hover, darken the color of the background */\n",
              "#sk-container-id-2 div.sk-label:hover label.sk-toggleable__label {\n",
              "  color: var(--sklearn-color-text);\n",
              "  background-color: var(--sklearn-color-unfitted-level-2);\n",
              "}\n",
              "\n",
              "/* Label box, darken color on hover, fitted */\n",
              "#sk-container-id-2 div.sk-label.fitted:hover label.sk-toggleable__label.fitted {\n",
              "  color: var(--sklearn-color-text);\n",
              "  background-color: var(--sklearn-color-fitted-level-2);\n",
              "}\n",
              "\n",
              "/* Estimator label */\n",
              "\n",
              "#sk-container-id-2 div.sk-label label {\n",
              "  font-family: monospace;\n",
              "  font-weight: bold;\n",
              "  display: inline-block;\n",
              "  line-height: 1.2em;\n",
              "}\n",
              "\n",
              "#sk-container-id-2 div.sk-label-container {\n",
              "  text-align: center;\n",
              "}\n",
              "\n",
              "/* Estimator-specific */\n",
              "#sk-container-id-2 div.sk-estimator {\n",
              "  font-family: monospace;\n",
              "  border: 1px dotted var(--sklearn-color-border-box);\n",
              "  border-radius: 0.25em;\n",
              "  box-sizing: border-box;\n",
              "  margin-bottom: 0.5em;\n",
              "  /* unfitted */\n",
              "  background-color: var(--sklearn-color-unfitted-level-0);\n",
              "}\n",
              "\n",
              "#sk-container-id-2 div.sk-estimator.fitted {\n",
              "  /* fitted */\n",
              "  background-color: var(--sklearn-color-fitted-level-0);\n",
              "}\n",
              "\n",
              "/* on hover */\n",
              "#sk-container-id-2 div.sk-estimator:hover {\n",
              "  /* unfitted */\n",
              "  background-color: var(--sklearn-color-unfitted-level-2);\n",
              "}\n",
              "\n",
              "#sk-container-id-2 div.sk-estimator.fitted:hover {\n",
              "  /* fitted */\n",
              "  background-color: var(--sklearn-color-fitted-level-2);\n",
              "}\n",
              "\n",
              "/* Specification for estimator info (e.g. \"i\" and \"?\") */\n",
              "\n",
              "/* Common style for \"i\" and \"?\" */\n",
              "\n",
              ".sk-estimator-doc-link,\n",
              "a:link.sk-estimator-doc-link,\n",
              "a:visited.sk-estimator-doc-link {\n",
              "  float: right;\n",
              "  font-size: smaller;\n",
              "  line-height: 1em;\n",
              "  font-family: monospace;\n",
              "  background-color: var(--sklearn-color-background);\n",
              "  border-radius: 1em;\n",
              "  height: 1em;\n",
              "  width: 1em;\n",
              "  text-decoration: none !important;\n",
              "  margin-left: 1ex;\n",
              "  /* unfitted */\n",
              "  border: var(--sklearn-color-unfitted-level-1) 1pt solid;\n",
              "  color: var(--sklearn-color-unfitted-level-1);\n",
              "}\n",
              "\n",
              ".sk-estimator-doc-link.fitted,\n",
              "a:link.sk-estimator-doc-link.fitted,\n",
              "a:visited.sk-estimator-doc-link.fitted {\n",
              "  /* fitted */\n",
              "  border: var(--sklearn-color-fitted-level-1) 1pt solid;\n",
              "  color: var(--sklearn-color-fitted-level-1);\n",
              "}\n",
              "\n",
              "/* On hover */\n",
              "div.sk-estimator:hover .sk-estimator-doc-link:hover,\n",
              ".sk-estimator-doc-link:hover,\n",
              "div.sk-label-container:hover .sk-estimator-doc-link:hover,\n",
              ".sk-estimator-doc-link:hover {\n",
              "  /* unfitted */\n",
              "  background-color: var(--sklearn-color-unfitted-level-3);\n",
              "  color: var(--sklearn-color-background);\n",
              "  text-decoration: none;\n",
              "}\n",
              "\n",
              "div.sk-estimator.fitted:hover .sk-estimator-doc-link.fitted:hover,\n",
              ".sk-estimator-doc-link.fitted:hover,\n",
              "div.sk-label-container:hover .sk-estimator-doc-link.fitted:hover,\n",
              ".sk-estimator-doc-link.fitted:hover {\n",
              "  /* fitted */\n",
              "  background-color: var(--sklearn-color-fitted-level-3);\n",
              "  color: var(--sklearn-color-background);\n",
              "  text-decoration: none;\n",
              "}\n",
              "\n",
              "/* Span, style for the box shown on hovering the info icon */\n",
              ".sk-estimator-doc-link span {\n",
              "  display: none;\n",
              "  z-index: 9999;\n",
              "  position: relative;\n",
              "  font-weight: normal;\n",
              "  right: .2ex;\n",
              "  padding: .5ex;\n",
              "  margin: .5ex;\n",
              "  width: min-content;\n",
              "  min-width: 20ex;\n",
              "  max-width: 50ex;\n",
              "  color: var(--sklearn-color-text);\n",
              "  box-shadow: 2pt 2pt 4pt #999;\n",
              "  /* unfitted */\n",
              "  background: var(--sklearn-color-unfitted-level-0);\n",
              "  border: .5pt solid var(--sklearn-color-unfitted-level-3);\n",
              "}\n",
              "\n",
              ".sk-estimator-doc-link.fitted span {\n",
              "  /* fitted */\n",
              "  background: var(--sklearn-color-fitted-level-0);\n",
              "  border: var(--sklearn-color-fitted-level-3);\n",
              "}\n",
              "\n",
              ".sk-estimator-doc-link:hover span {\n",
              "  display: block;\n",
              "}\n",
              "\n",
              "/* \"?\"-specific style due to the `<a>` HTML tag */\n",
              "\n",
              "#sk-container-id-2 a.estimator_doc_link {\n",
              "  float: right;\n",
              "  font-size: 1rem;\n",
              "  line-height: 1em;\n",
              "  font-family: monospace;\n",
              "  background-color: var(--sklearn-color-background);\n",
              "  border-radius: 1rem;\n",
              "  height: 1rem;\n",
              "  width: 1rem;\n",
              "  text-decoration: none;\n",
              "  /* unfitted */\n",
              "  color: var(--sklearn-color-unfitted-level-1);\n",
              "  border: var(--sklearn-color-unfitted-level-1) 1pt solid;\n",
              "}\n",
              "\n",
              "#sk-container-id-2 a.estimator_doc_link.fitted {\n",
              "  /* fitted */\n",
              "  border: var(--sklearn-color-fitted-level-1) 1pt solid;\n",
              "  color: var(--sklearn-color-fitted-level-1);\n",
              "}\n",
              "\n",
              "/* On hover */\n",
              "#sk-container-id-2 a.estimator_doc_link:hover {\n",
              "  /* unfitted */\n",
              "  background-color: var(--sklearn-color-unfitted-level-3);\n",
              "  color: var(--sklearn-color-background);\n",
              "  text-decoration: none;\n",
              "}\n",
              "\n",
              "#sk-container-id-2 a.estimator_doc_link.fitted:hover {\n",
              "  /* fitted */\n",
              "  background-color: var(--sklearn-color-fitted-level-3);\n",
              "}\n",
              "</style><div id=\"sk-container-id-2\" class=\"sk-top-container\"><div class=\"sk-text-repr-fallback\"><pre>RandomizedSearchCV(cv=StratifiedKFold(n_splits=10, random_state=None, shuffle=False),\n",
              "                   error_score=nan,\n",
              "                   estimator=Pipeline(memory=Memory(location=None),\n",
              "                                      steps=[(&#x27;numerical_imputer&#x27;,\n",
              "                                              TransformerWrapper(exclude=None,\n",
              "                                                                 include=[&#x27;AURKA&#x27;,\n",
              "                                                                          &#x27;CDC20&#x27;,\n",
              "                                                                          &#x27;CCNB1&#x27;,\n",
              "                                                                          &#x27;KIF11&#x27;,\n",
              "                                                                          &#x27;HSPG2&#x27;,\n",
              "                                                                          &#x27;CCNA2&#x27;,\n",
              "                                                                          &#x27;BUB1B&#x27;,\n",
              "                                                                          &#x27;CCNB2&#x27;,\n",
              "                                                                          &#x27;BUB1&#x27;,\n",
              "                                                                          &#x27;RRM2&#x27;,\n",
              "                                                                          &#x27;CTBP2&#x27;,\n",
              "                                                                          &#x27;UBE2C&#x27;,\n",
              "                                                                          &#x27;TXNRD1&#x27;],\n",
              "                                                                 transformer=SimpleImputer(add_...\n",
              "                                        &#x27;actual_estimator__min_samples_leaf&#x27;: [2,\n",
              "                                                                               3,\n",
              "                                                                               4,\n",
              "                                                                               5,\n",
              "                                                                               6],\n",
              "                                        &#x27;actual_estimator__min_samples_split&#x27;: [2,\n",
              "                                                                                5,\n",
              "                                                                                7,\n",
              "                                                                                9,\n",
              "                                                                                10],\n",
              "                                        &#x27;actual_estimator__n_estimators&#x27;: [10,\n",
              "                                                                           20,\n",
              "                                                                           30,\n",
              "                                                                           40,\n",
              "                                                                           50,\n",
              "                                                                           60,\n",
              "                                                                           70,\n",
              "                                                                           80,\n",
              "                                                                           90,\n",
              "                                                                           100,\n",
              "                                                                           110,\n",
              "                                                                           120,\n",
              "                                                                           130,\n",
              "                                                                           140,\n",
              "                                                                           150,\n",
              "                                                                           160,\n",
              "                                                                           170,\n",
              "                                                                           180,\n",
              "                                                                           190,\n",
              "                                                                           200,\n",
              "                                                                           210,\n",
              "                                                                           220,\n",
              "                                                                           230,\n",
              "                                                                           240,\n",
              "                                                                           250,\n",
              "                                                                           260,\n",
              "                                                                           270,\n",
              "                                                                           280,\n",
              "                                                                           290,\n",
              "                                                                           300]},\n",
              "                   pre_dispatch=&#x27;2*n_jobs&#x27;, random_state=123, refit=False,\n",
              "                   return_train_score=False, scoring=&#x27;accuracy&#x27;, verbose=1)</pre><b>In a Jupyter environment, please rerun this cell to show the HTML representation or trust the notebook. <br />On GitHub, the HTML representation is unable to render, please try loading this page with nbviewer.org.</b></div><div class=\"sk-container\" hidden><div class=\"sk-item sk-dashed-wrapped\"><div class=\"sk-label-container\"><div class=\"sk-label fitted sk-toggleable\"><input class=\"sk-toggleable__control sk-hidden--visually\" id=\"sk-estimator-id-2\" type=\"checkbox\" ><label for=\"sk-estimator-id-2\" class=\"sk-toggleable__label fitted sk-toggleable__label-arrow fitted\">&nbsp;&nbsp;RandomizedSearchCV<a class=\"sk-estimator-doc-link fitted\" rel=\"noreferrer\" target=\"_blank\" href=\"https://scikit-learn.org/1.4/modules/generated/sklearn.model_selection.RandomizedSearchCV.html\">?<span>Documentation for RandomizedSearchCV</span></a><span class=\"sk-estimator-doc-link fitted\">i<span>Fitted</span></span></label><div class=\"sk-toggleable__content fitted\"><pre>RandomizedSearchCV(cv=StratifiedKFold(n_splits=10, random_state=None, shuffle=False),\n",
              "                   error_score=nan,\n",
              "                   estimator=Pipeline(memory=Memory(location=None),\n",
              "                                      steps=[(&#x27;numerical_imputer&#x27;,\n",
              "                                              TransformerWrapper(exclude=None,\n",
              "                                                                 include=[&#x27;AURKA&#x27;,\n",
              "                                                                          &#x27;CDC20&#x27;,\n",
              "                                                                          &#x27;CCNB1&#x27;,\n",
              "                                                                          &#x27;KIF11&#x27;,\n",
              "                                                                          &#x27;HSPG2&#x27;,\n",
              "                                                                          &#x27;CCNA2&#x27;,\n",
              "                                                                          &#x27;BUB1B&#x27;,\n",
              "                                                                          &#x27;CCNB2&#x27;,\n",
              "                                                                          &#x27;BUB1&#x27;,\n",
              "                                                                          &#x27;RRM2&#x27;,\n",
              "                                                                          &#x27;CTBP2&#x27;,\n",
              "                                                                          &#x27;UBE2C&#x27;,\n",
              "                                                                          &#x27;TXNRD1&#x27;],\n",
              "                                                                 transformer=SimpleImputer(add_...\n",
              "                                        &#x27;actual_estimator__min_samples_leaf&#x27;: [2,\n",
              "                                                                               3,\n",
              "                                                                               4,\n",
              "                                                                               5,\n",
              "                                                                               6],\n",
              "                                        &#x27;actual_estimator__min_samples_split&#x27;: [2,\n",
              "                                                                                5,\n",
              "                                                                                7,\n",
              "                                                                                9,\n",
              "                                                                                10],\n",
              "                                        &#x27;actual_estimator__n_estimators&#x27;: [10,\n",
              "                                                                           20,\n",
              "                                                                           30,\n",
              "                                                                           40,\n",
              "                                                                           50,\n",
              "                                                                           60,\n",
              "                                                                           70,\n",
              "                                                                           80,\n",
              "                                                                           90,\n",
              "                                                                           100,\n",
              "                                                                           110,\n",
              "                                                                           120,\n",
              "                                                                           130,\n",
              "                                                                           140,\n",
              "                                                                           150,\n",
              "                                                                           160,\n",
              "                                                                           170,\n",
              "                                                                           180,\n",
              "                                                                           190,\n",
              "                                                                           200,\n",
              "                                                                           210,\n",
              "                                                                           220,\n",
              "                                                                           230,\n",
              "                                                                           240,\n",
              "                                                                           250,\n",
              "                                                                           260,\n",
              "                                                                           270,\n",
              "                                                                           280,\n",
              "                                                                           290,\n",
              "                                                                           300]},\n",
              "                   pre_dispatch=&#x27;2*n_jobs&#x27;, random_state=123, refit=False,\n",
              "                   return_train_score=False, scoring=&#x27;accuracy&#x27;, verbose=1)</pre></div> </div></div><div class=\"sk-parallel\"><div class=\"sk-parallel-item\"><div class=\"sk-item\"><div class=\"sk-label-container\"><div class=\"sk-label fitted sk-toggleable\"><input class=\"sk-toggleable__control sk-hidden--visually\" id=\"sk-estimator-id-3\" type=\"checkbox\" ><label for=\"sk-estimator-id-3\" class=\"sk-toggleable__label fitted sk-toggleable__label-arrow fitted\">estimator: Pipeline</label><div class=\"sk-toggleable__content fitted\"><pre>Pipeline(memory=Memory(location=None),\n",
              "         steps=[(&#x27;numerical_imputer&#x27;,\n",
              "                 TransformerWrapper(exclude=None,\n",
              "                                    include=[&#x27;AURKA&#x27;, &#x27;CDC20&#x27;, &#x27;CCNB1&#x27;, &#x27;KIF11&#x27;,\n",
              "                                             &#x27;HSPG2&#x27;, &#x27;CCNA2&#x27;, &#x27;BUB1B&#x27;, &#x27;CCNB2&#x27;,\n",
              "                                             &#x27;BUB1&#x27;, &#x27;RRM2&#x27;, &#x27;CTBP2&#x27;, &#x27;UBE2C&#x27;,\n",
              "                                             &#x27;TXNRD1&#x27;],\n",
              "                                    transformer=SimpleImputer(add_indicator=False,\n",
              "                                                              copy=True,\n",
              "                                                              fill_value=None,\n",
              "                                                              keep_empty_features=False,\n",
              "                                                              missing_values=nan,\n",
              "                                                              strategy=&#x27;mean&#x27;))),\n",
              "                (&#x27;c...\n",
              "                 RandomForestClassifier(bootstrap=True, ccp_alpha=0.0,\n",
              "                                        class_weight=None, criterion=&#x27;gini&#x27;,\n",
              "                                        max_depth=None, max_features=&#x27;sqrt&#x27;,\n",
              "                                        max_leaf_nodes=None, max_samples=None,\n",
              "                                        min_impurity_decrease=0.0,\n",
              "                                        min_samples_leaf=1, min_samples_split=2,\n",
              "                                        min_weight_fraction_leaf=0.0,\n",
              "                                        monotonic_cst=None, n_estimators=100,\n",
              "                                        n_jobs=-1, oob_score=False,\n",
              "                                        random_state=123, verbose=0,\n",
              "                                        warm_start=False))],\n",
              "         verbose=False)</pre></div> </div></div><div class=\"sk-serial\"><div class=\"sk-item\"><div class=\"sk-serial\"><div class=\"sk-item sk-dashed-wrapped\"><div class=\"sk-label-container\"><div class=\"sk-label fitted sk-toggleable\"><input class=\"sk-toggleable__control sk-hidden--visually\" id=\"sk-estimator-id-4\" type=\"checkbox\" ><label for=\"sk-estimator-id-4\" class=\"sk-toggleable__label fitted sk-toggleable__label-arrow fitted\">numerical_imputer: TransformerWrapper</label><div class=\"sk-toggleable__content fitted\"><pre>TransformerWrapper(include=[&#x27;AURKA&#x27;, &#x27;CDC20&#x27;, &#x27;CCNB1&#x27;, &#x27;KIF11&#x27;, &#x27;HSPG2&#x27;,\n",
              "                            &#x27;CCNA2&#x27;, &#x27;BUB1B&#x27;, &#x27;CCNB2&#x27;, &#x27;BUB1&#x27;, &#x27;RRM2&#x27;, &#x27;CTBP2&#x27;,\n",
              "                            &#x27;UBE2C&#x27;, &#x27;TXNRD1&#x27;],\n",
              "                   transformer=SimpleImputer())</pre></div> </div></div><div class=\"sk-parallel\"><div class=\"sk-parallel-item\"><div class=\"sk-item\"><div class=\"sk-label-container\"><div class=\"sk-label fitted sk-toggleable\"><input class=\"sk-toggleable__control sk-hidden--visually\" id=\"sk-estimator-id-5\" type=\"checkbox\" ><label for=\"sk-estimator-id-5\" class=\"sk-toggleable__label fitted sk-toggleable__label-arrow fitted\">transformer: SimpleImputer</label><div class=\"sk-toggleable__content fitted\"><pre>SimpleImputer()</pre></div> </div></div><div class=\"sk-serial\"><div class=\"sk-item\"><div class=\"sk-estimator fitted sk-toggleable\"><input class=\"sk-toggleable__control sk-hidden--visually\" id=\"sk-estimator-id-6\" type=\"checkbox\" ><label for=\"sk-estimator-id-6\" class=\"sk-toggleable__label fitted sk-toggleable__label-arrow fitted\">&nbsp;SimpleImputer<a class=\"sk-estimator-doc-link fitted\" rel=\"noreferrer\" target=\"_blank\" href=\"https://scikit-learn.org/1.4/modules/generated/sklearn.impute.SimpleImputer.html\">?<span>Documentation for SimpleImputer</span></a></label><div class=\"sk-toggleable__content fitted\"><pre>SimpleImputer()</pre></div> </div></div></div></div></div></div></div><div class=\"sk-item sk-dashed-wrapped\"><div class=\"sk-label-container\"><div class=\"sk-label fitted sk-toggleable\"><input class=\"sk-toggleable__control sk-hidden--visually\" id=\"sk-estimator-id-7\" type=\"checkbox\" ><label for=\"sk-estimator-id-7\" class=\"sk-toggleable__label fitted sk-toggleable__label-arrow fitted\">categorical_imputer: TransformerWrapper</label><div class=\"sk-toggleable__content fitted\"><pre>TransformerWrapper(include=[],\n",
              "                   transformer=SimpleImputer(strategy=&#x27;most_frequent&#x27;))</pre></div> </div></div><div class=\"sk-parallel\"><div class=\"sk-parallel-item\"><div class=\"sk-item\"><div class=\"sk-label-container\"><div class=\"sk-label fitted sk-toggleable\"><input class=\"sk-toggleable__control sk-hidden--visually\" id=\"sk-estimator-id-8\" type=\"checkbox\" ><label for=\"sk-estimator-id-8\" class=\"sk-toggleable__label fitted sk-toggleable__label-arrow fitted\">transformer: SimpleImputer</label><div class=\"sk-toggleable__content fitted\"><pre>SimpleImputer(strategy=&#x27;most_frequent&#x27;)</pre></div> </div></div><div class=\"sk-serial\"><div class=\"sk-item\"><div class=\"sk-estimator fitted sk-toggleable\"><input class=\"sk-toggleable__control sk-hidden--visually\" id=\"sk-estimator-id-9\" type=\"checkbox\" ><label for=\"sk-estimator-id-9\" class=\"sk-toggleable__label fitted sk-toggleable__label-arrow fitted\">&nbsp;SimpleImputer<a class=\"sk-estimator-doc-link fitted\" rel=\"noreferrer\" target=\"_blank\" href=\"https://scikit-learn.org/1.4/modules/generated/sklearn.impute.SimpleImputer.html\">?<span>Documentation for SimpleImputer</span></a></label><div class=\"sk-toggleable__content fitted\"><pre>SimpleImputer(strategy=&#x27;most_frequent&#x27;)</pre></div> </div></div></div></div></div></div></div><div class=\"sk-item\"><div class=\"sk-estimator fitted sk-toggleable\"><input class=\"sk-toggleable__control sk-hidden--visually\" id=\"sk-estimator-id-10\" type=\"checkbox\" ><label for=\"sk-estimator-id-10\" class=\"sk-toggleable__label fitted sk-toggleable__label-arrow fitted\">&nbsp;RandomForestClassifier<a class=\"sk-estimator-doc-link fitted\" rel=\"noreferrer\" target=\"_blank\" href=\"https://scikit-learn.org/1.4/modules/generated/sklearn.ensemble.RandomForestClassifier.html\">?<span>Documentation for RandomForestClassifier</span></a></label><div class=\"sk-toggleable__content fitted\"><pre>RandomForestClassifier(n_jobs=-1, random_state=123)</pre></div> </div></div></div></div></div></div></div></div></div></div></div>"
            ]
          },
          "metadata": {},
          "execution_count": 38
        }
      ],
      "source": [
        "tuner"
      ]
    },
    {
      "cell_type": "markdown",
      "id": "jUhSsX-FUUq9",
      "metadata": {
        "id": "jUhSsX-FUUq9"
      },
      "source": [
        "## **Analyze Model** ##"
      ]
    },
    {
      "cell_type": "code",
      "source": [
        "#plot_model(rf, plot = 'residuals')"
      ],
      "metadata": {
        "id": "Dstq-oLEs6yE"
      },
      "id": "Dstq-oLEs6yE",
      "execution_count": null,
      "outputs": []
    },
    {
      "cell_type": "code",
      "execution_count": null,
      "id": "p7Pir_tKXKxf",
      "metadata": {
        "id": "p7Pir_tKXKxf"
      },
      "outputs": [],
      "source": [
        "# predicting error plot\n",
        "plot_model(rf, plot = 'error')"
      ]
    },
    {
      "cell_type": "code",
      "execution_count": null,
      "id": "QEyoZJmmXR5i",
      "metadata": {
        "id": "QEyoZJmmXR5i"
      },
      "outputs": [],
      "source": [
        "# cooks distance plot\n",
        "#plot_model(rf, plot = 'cooks')"
      ]
    },
    {
      "cell_type": "code",
      "execution_count": null,
      "id": "tMYmjfRFXZ6S",
      "metadata": {
        "id": "tMYmjfRFXZ6S"
      },
      "outputs": [],
      "source": [
        "# recursive feature elemination\n",
        "#plot_model(rf, plot = 'rfe')"
      ]
    },
    {
      "cell_type": "code",
      "execution_count": null,
      "id": "1NKrdHNiXZ9A",
      "metadata": {
        "id": "1NKrdHNiXZ9A"
      },
      "outputs": [],
      "source": [
        "# learning curve\n",
        "plot_model(rf, plot = 'learning')"
      ]
    },
    {
      "cell_type": "code",
      "execution_count": null,
      "id": "n8BaKKXXXZ_u",
      "metadata": {
        "id": "n8BaKKXXXZ_u"
      },
      "outputs": [],
      "source": [
        "# validation curve\n",
        "plot_model(rf, plot = 'vc')"
      ]
    },
    {
      "cell_type": "code",
      "execution_count": null,
      "id": "eg0NCIKVXaBz",
      "metadata": {
        "id": "eg0NCIKVXaBz"
      },
      "outputs": [],
      "source": [
        "# manifold learning plot\n",
        "#plot_model(rf, plot = 'manifold')"
      ]
    },
    {
      "cell_type": "code",
      "execution_count": null,
      "id": "9fjUaFrHYnaX",
      "metadata": {
        "colab": {
          "base_uri": "https://localhost:8080/",
          "height": 504
        },
        "id": "9fjUaFrHYnaX",
        "outputId": "c110939f-cc06-4ffd-de19-39e14bde7815"
      },
      "outputs": [
        {
          "output_type": "display_data",
          "data": {
            "text/plain": [
              "<IPython.core.display.HTML object>"
            ],
            "text/html": []
          },
          "metadata": {}
        },
        {
          "output_type": "display_data",
          "data": {
            "text/plain": [
              "<Figure size 800x500 with 1 Axes>"
            ],
            "image/png": "[encoded data removed]"
          },
          "metadata": {}
        },
        {
          "output_type": "display_data",
          "data": {
            "text/plain": [
              "<IPython.core.display.HTML object>"
            ],
            "text/html": []
          },
          "metadata": {}
        },
        {
          "output_type": "execute_result",
          "data": {
            "text/plain": [
              "'Feature Importance.png'"
            ],
            "application/vnd.google.colaboratory.intrinsic+json": {
              "type": "string"
            }
          },
          "metadata": {},
          "execution_count": 53
        }
      ],
      "source": [
        "# plot feature importance\n",
        "plot_model(rf, plot = 'feature')\n",
        "# plot feature importance\n",
        "plot_model(rf, plot = 'feature', save=True)"
      ]
    }
  ],
  "metadata": {
    "colab": {
      "provenance": []
    },
    "kernelspec": {
      "display_name": "IPyDeep",
      "language": "python",
      "name": "ipydeep"
    },
    "language_info": {
      "codemirror_mode": {
        "name": "ipython",
        "version": 3
      },
      "file_extension": ".py",
      "mimetype": "text/x-python",
      "name": "python",
      "nbconvert_exporter": "python",
      "pygments_lexer": "ipython3",
      "version": "3.11.5"
    },
    "widgets": {
      "application/vnd.jupyter.widget-state+json": {
        "ab82e5b99783435e8a8afdbf97f6435b": {
          "model_module": "@jupyter-widgets/controls",
          "model_name": "HBoxModel",
          "model_module_version": "1.5.0",
          "state": {
            "_dom_classes": [],
            "_model_module": "@jupyter-widgets/controls",
            "_model_module_version": "1.5.0",
            "_model_name": "HBoxModel",
            "_view_count": null,
            "_view_module": "@jupyter-widgets/controls",
            "_view_module_version": "1.5.0",
            "_view_name": "HBoxView",
            "box_style": "",
            "children": [
              "IPY_MODEL_b8b8b650ed4a40ec9359074a253bc52d",
              "IPY_MODEL_9713f396e4a3497da5a24b38d3121ed3",
              "IPY_MODEL_9276a558381544c5805f5e5ba0e8a846"
            ],
            "layout": "IPY_MODEL_09190d89fe5c4fbc9593055c0aeaaaae"
          }
        },
        "b8b8b650ed4a40ec9359074a253bc52d": {
          "model_module": "@jupyter-widgets/controls",
          "model_name": "HTMLModel",
          "model_module_version": "1.5.0",
          "state": {
            "_dom_classes": [],
            "_model_module": "@jupyter-widgets/controls",
            "_model_module_version": "1.5.0",
            "_model_name": "HTMLModel",
            "_view_count": null,
            "_view_module": "@jupyter-widgets/controls",
            "_view_module_version": "1.5.0",
            "_view_name": "HTMLView",
            "description": "",
            "description_tooltip": null,
            "layout": "IPY_MODEL_cddcf44e24ff4655a228528b47c60f7a",
            "placeholder": "​",
            "style": "IPY_MODEL_2758f560a415432c8b1193e0dfa68cc1",
            "value": "Processing: 100%"
          }
        },
        "9713f396e4a3497da5a24b38d3121ed3": {
          "model_module": "@jupyter-widgets/controls",
          "model_name": "FloatProgressModel",
          "model_module_version": "1.5.0",
          "state": {
            "_dom_classes": [],
            "_model_module": "@jupyter-widgets/controls",
            "_model_module_version": "1.5.0",
            "_model_name": "FloatProgressModel",
            "_view_count": null,
            "_view_module": "@jupyter-widgets/controls",
            "_view_module_version": "1.5.0",
            "_view_name": "ProgressView",
            "bar_style": "",
            "description": "",
            "description_tooltip": null,
            "layout": "IPY_MODEL_8caa9f9ec5ef428a9b9bc23cceb01125",
            "max": 65,
            "min": 0,
            "orientation": "horizontal",
            "style": "IPY_MODEL_f643444fd836400588f76d5235cd0359",
            "value": 65
          }
        },
        "9276a558381544c5805f5e5ba0e8a846": {
          "model_module": "@jupyter-widgets/controls",
          "model_name": "HTMLModel",
          "model_module_version": "1.5.0",
          "state": {
            "_dom_classes": [],
            "_model_module": "@jupyter-widgets/controls",
            "_model_module_version": "1.5.0",
            "_model_name": "HTMLModel",
            "_view_count": null,
            "_view_module": "@jupyter-widgets/controls",
            "_view_module_version": "1.5.0",
            "_view_name": "HTMLView",
            "description": "",
            "description_tooltip": null,
            "layout": "IPY_MODEL_18e4b9d21c18428b8f36be360d542bb9",
            "placeholder": "​",
            "style": "IPY_MODEL_d7ee3b52559f42a3a8665009ac3a242d",
            "value": " 65/65 [00:35&lt;00:00,  4.60it/s]"
          }
        },
        "09190d89fe5c4fbc9593055c0aeaaaae": {
          "model_module": "@jupyter-widgets/base",
          "model_name": "LayoutModel",
          "model_module_version": "1.2.0",
          "state": {
            "_model_module": "@jupyter-widgets/base",
            "_model_module_version": "1.2.0",
            "_model_name": "LayoutModel",
            "_view_count": null,
            "_view_module": "@jupyter-widgets/base",
            "_view_module_version": "1.2.0",
            "_view_name": "LayoutView",
            "align_content": null,
            "align_items": null,
            "align_self": null,
            "border": null,
            "bottom": null,
            "display": null,
            "flex": null,
            "flex_flow": null,
            "grid_area": null,
            "grid_auto_columns": null,
            "grid_auto_flow": null,
            "grid_auto_rows": null,
            "grid_column": null,
            "grid_gap": null,
            "grid_row": null,
            "grid_template_areas": null,
            "grid_template_columns": null,
            "grid_template_rows": null,
            "height": null,
            "justify_content": null,
            "justify_items": null,
            "left": null,
            "margin": null,
            "max_height": null,
            "max_width": null,
            "min_height": null,
            "min_width": null,
            "object_fit": null,
            "object_position": null,
            "order": null,
            "overflow": null,
            "overflow_x": null,
            "overflow_y": null,
            "padding": null,
            "right": null,
            "top": null,
            "visibility": "hidden",
            "width": null
          }
        },
        "cddcf44e24ff4655a228528b47c60f7a": {
          "model_module": "@jupyter-widgets/base",
          "model_name": "LayoutModel",
          "model_module_version": "1.2.0",
          "state": {
            "_model_module": "@jupyter-widgets/base",
            "_model_module_version": "1.2.0",
            "_model_name": "LayoutModel",
            "_view_count": null,
            "_view_module": "@jupyter-widgets/base",
            "_view_module_version": "1.2.0",
            "_view_name": "LayoutView",
            "align_content": null,
            "align_items": null,
            "align_self": null,
            "border": null,
            "bottom": null,
            "display": null,
            "flex": null,
            "flex_flow": null,
            "grid_area": null,
            "grid_auto_columns": null,
            "grid_auto_flow": null,
            "grid_auto_rows": null,
            "grid_column": null,
            "grid_gap": null,
            "grid_row": null,
            "grid_template_areas": null,
            "grid_template_columns": null,
            "grid_template_rows": null,
            "height": null,
            "justify_content": null,
            "justify_items": null,
            "left": null,
            "margin": null,
            "max_height": null,
            "max_width": null,
            "min_height": null,
            "min_width": null,
            "object_fit": null,
            "object_position": null,
            "order": null,
            "overflow": null,
            "overflow_x": null,
            "overflow_y": null,
            "padding": null,
            "right": null,
            "top": null,
            "visibility": null,
            "width": null
          }
        },
        "2758f560a415432c8b1193e0dfa68cc1": {
          "model_module": "@jupyter-widgets/controls",
          "model_name": "DescriptionStyleModel",
          "model_module_version": "1.5.0",
          "state": {
            "_model_module": "@jupyter-widgets/controls",
            "_model_module_version": "1.5.0",
            "_model_name": "DescriptionStyleModel",
            "_view_count": null,
            "_view_module": "@jupyter-widgets/base",
            "_view_module_version": "1.2.0",
            "_view_name": "StyleView",
            "description_width": ""
          }
        },
        "8caa9f9ec5ef428a9b9bc23cceb01125": {
          "model_module": "@jupyter-widgets/base",
          "model_name": "LayoutModel",
          "model_module_version": "1.2.0",
          "state": {
            "_model_module": "@jupyter-widgets/base",
            "_model_module_version": "1.2.0",
            "_model_name": "LayoutModel",
            "_view_count": null,
            "_view_module": "@jupyter-widgets/base",
            "_view_module_version": "1.2.0",
            "_view_name": "LayoutView",
            "align_content": null,
            "align_items": null,
            "align_self": null,
            "border": null,
            "bottom": null,
            "display": null,
            "flex": null,
            "flex_flow": null,
            "grid_area": null,
            "grid_auto_columns": null,
            "grid_auto_flow": null,
            "grid_auto_rows": null,
            "grid_column": null,
            "grid_gap": null,
            "grid_row": null,
            "grid_template_areas": null,
            "grid_template_columns": null,
            "grid_template_rows": null,
            "height": null,
            "justify_content": null,
            "justify_items": null,
            "left": null,
            "margin": null,
            "max_height": null,
            "max_width": null,
            "min_height": null,
            "min_width": null,
            "object_fit": null,
            "object_position": null,
            "order": null,
            "overflow": null,
            "overflow_x": null,
            "overflow_y": null,
            "padding": null,
            "right": null,
            "top": null,
            "visibility": null,
            "width": null
          }
        },
        "f643444fd836400588f76d5235cd0359": {
          "model_module": "@jupyter-widgets/controls",
          "model_name": "ProgressStyleModel",
          "model_module_version": "1.5.0",
          "state": {
            "_model_module": "@jupyter-widgets/controls",
            "_model_module_version": "1.5.0",
            "_model_name": "ProgressStyleModel",
            "_view_count": null,
            "_view_module": "@jupyter-widgets/base",
            "_view_module_version": "1.2.0",
            "_view_name": "StyleView",
            "bar_color": null,
            "description_width": ""
          }
        },
        "18e4b9d21c18428b8f36be360d542bb9": {
          "model_module": "@jupyter-widgets/base",
          "model_name": "LayoutModel",
          "model_module_version": "1.2.0",
          "state": {
            "_model_module": "@jupyter-widgets/base",
            "_model_module_version": "1.2.0",
            "_model_name": "LayoutModel",
            "_view_count": null,
            "_view_module": "@jupyter-widgets/base",
            "_view_module_version": "1.2.0",
            "_view_name": "LayoutView",
            "align_content": null,
            "align_items": null,
            "align_self": null,
            "border": null,
            "bottom": null,
            "display": null,
            "flex": null,
            "flex_flow": null,
            "grid_area": null,
            "grid_auto_columns": null,
            "grid_auto_flow": null,
            "grid_auto_rows": null,
            "grid_column": null,
            "grid_gap": null,
            "grid_row": null,
            "grid_template_areas": null,
            "grid_template_columns": null,
            "grid_template_rows": null,
            "height": null,
            "justify_content": null,
            "justify_items": null,
            "left": null,
            "margin": null,
            "max_height": null,
            "max_width": null,
            "min_height": null,
            "min_width": null,
            "object_fit": null,
            "object_position": null,
            "order": null,
            "overflow": null,
            "overflow_x": null,
            "overflow_y": null,
            "padding": null,
            "right": null,
            "top": null,
            "visibility": null,
            "width": null
          }
        },
        "d7ee3b52559f42a3a8665009ac3a242d": {
          "model_module": "@jupyter-widgets/controls",
          "model_name": "DescriptionStyleModel",
          "model_module_version": "1.5.0",
          "state": {
            "_model_module": "@jupyter-widgets/controls",
            "_model_module_version": "1.5.0",
            "_model_name": "DescriptionStyleModel",
            "_view_count": null,
            "_view_module": "@jupyter-widgets/base",
            "_view_module_version": "1.2.0",
            "_view_name": "StyleView",
            "description_width": ""
          }
        }
      }
    }
  },
  "nbformat": 4,
  "nbformat_minor": 5
}